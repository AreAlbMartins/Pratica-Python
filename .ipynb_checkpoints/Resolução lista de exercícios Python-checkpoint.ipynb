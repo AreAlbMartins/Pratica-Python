{
 "cells": [
  {
   "cell_type": "markdown",
   "metadata": {},
   "source": [
    "1- Faça um programa que leia um nome de usuário e a sua senha e não aceite a senha igual ao nome do usuário,\n",
    " mostrando uma mensagem de erro e voltando a pedir as informações."
   ]
  },
  {
   "cell_type": "code",
   "execution_count": null,
   "metadata": {},
   "outputs": [],
   "source": [
    "nome= input(\"Digite seu nome: \")\n",
    "senha = input(\"Digite sua senha: \")\n",
    "\n",
    "while senha == nome:\n",
    "    print(\"Digite outra senha! A senha não pode ser igual ao seu nome.\")\n",
    "    nome= input(\"Digite seu nome: \")\n",
    "    senha = input(\"Digite sua senha: \")"
   ]
  },
  {
   "cell_type": "markdown",
   "metadata": {},
   "source": [
    "Faça um programa que imprima na tela os números de 1 a 20, um abaixo do outro. Depois modifique o programa para que ele mostre os números um ao lado do outro."
   ]
  },
  {
   "cell_type": "code",
   "execution_count": null,
   "metadata": {},
   "outputs": [],
   "source": [
    "for i in range (1,21):\n",
    "    print(i)\n",
    "\n",
    "lista = []\n",
    "for i in range (1,21):\n",
    "    lista.append(i)\n",
    "print(lista)"
   ]
  },
  {
   "cell_type": "markdown",
   "metadata": {},
   "source": [
    "Faça um programa que leia 5 números e informe o maior número."
   ]
  },
  {
   "cell_type": "code",
   "execution_count": null,
   "metadata": {},
   "outputs": [],
   "source": [
    "a = int(input(\"Informe a quantidade de números que deseja comparar : \"))\n",
    "lista = []\n",
    "for x in range(a):\n",
    "    num = int(input(\"Informe  um número: \"))\n",
    "    lista.append(num)\n",
    "print('O número com maior valor é: ', max(lista))"
   ]
  },
  {
   "cell_type": "markdown",
   "metadata": {},
   "source": [
    "Faça um programa que leia 5 números e informe a soma e a média dos números.\n"
   ]
  },
  {
   "cell_type": "code",
   "execution_count": null,
   "metadata": {},
   "outputs": [],
   "source": [
    "a = int(input(\"Informe uma quantidade de números: \"))\n",
    "lista = []\n",
    "for x in range(a):\n",
    "    num = int(input(\"Informe um número: \"))\n",
    "    lista.append(num)\n",
    "print('A soma dos valores é: ', sum(lista))\n",
    "media = sum(lista)/a\n",
    "print('A média dos valores é: ', media)"
   ]
  },
  {
   "cell_type": "markdown",
   "metadata": {},
   "source": [
    "Desenvolva um gerador de tabuada, capaz de gerar a tabuada de qualquer número inteiro entre 1 a 10. O usuário deve informar de qual numero ele deseja ver a tabuada. A saída deve ser conforme o exemplo abaixo:"
   ]
  },
  {
   "cell_type": "code",
   "execution_count": null,
   "metadata": {},
   "outputs": [],
   "source": [
    "print(\"Gerador de tabuada\")\n",
    "tabuada = range(11)\n",
    "\n",
    "x = int(input(\"Escolha um número entre 0 e 10 para ver a tabuada: \"))\n",
    "while x > 10:\n",
    "   print(\"O número deve ser entre 0 e 10\")\n",
    "   x = int(input(\"Escolha um número entre 0 e 10 para ver a tabuada: \"))\n",
    "for i in tabuada:\n",
    "        print(x, \"x\", tabuada[i], \"=\", (tabuada[i]* x))"
   ]
  },
  {
   "cell_type": "markdown",
   "metadata": {},
   "source": [
    "Faça um programa que peça um número inteiro e determine se ele é ou não um número primo. Um número primo é aquele que é divisível somente por ele mesmo e por 1."
   ]
  },
  {
   "cell_type": "code",
   "execution_count": null,
   "metadata": {},
   "outputs": [],
   "source": [
    "a = int(input(\"Entre com um número: \"))\n",
    "\n",
    "div = 0\n",
    "for i in range(1, a+1):\n",
    "    resto = a % i\n",
    "    if resto == 0:\n",
    "        div =div + 1\n",
    "        \n",
    "if div == 2:\n",
    "    print(\"é um número primo\")\n",
    "else:\n",
    "    print(\"não é um número primo\")"
   ]
  },
  {
   "cell_type": "markdown",
   "metadata": {},
   "source": [
    "Numa eleição existem três candidatos. Faça um programa que peça o número total de eleitores. Peça para cada eleitor votar e ao final mostrar o número de votos de cada candidato."
   ]
  },
  {
   "cell_type": "code",
   "execution_count": null,
   "metadata": {},
   "outputs": [],
   "source": [
    "eleitores = int(input(\"Digite o número de eleitores: \"))\n",
    "votos = []\n",
    "\n",
    "for i in range(eleitores):\n",
    "    voto = votos.append(int(input(\"Escolha seu candidato:[ 1, 2, 3]: \")))\n",
    "    if 1:\n",
    "        votos.count(1)\n",
    "    elif 2:\n",
    "        votos.count(2)\n",
    "    else:\n",
    "        votos.count(3)\n",
    "   \n",
    "\n",
    "print(\"Candidato 1: \", votos.count(1))\n",
    "\n",
    "print(\"Candidato 2: \", votos.count(2))\n",
    "\n",
    "print(\"Candidato 3: \", votos.count(3)) "
   ]
  },
  {
   "cell_type": "markdown",
   "metadata": {},
   "source": [
    "Faça um programa que calcule o número médio de alunos por turma. Para isto, peça a quantidade de turmas e a quantidade de alunos para cada turma. As turmas não podem ter mais de 40 alunos."
   ]
  },
  {
   "cell_type": "code",
   "execution_count": null,
   "metadata": {},
   "outputs": [],
   "source": [
    "turmas = int(input(\"Digite a quantidade de turmas: \"))\n",
    "somaalunos = 0\n",
    "mediaportuma = 0\n",
    "for i in range(turmas):\n",
    "    alunos = int(input(\"Digite o número de alunos dessa turma: \"))\n",
    "    while alunos > 40:\n",
    "        print(\"A turma não pode ter mais de 40 alunos. Verifique a quantidade certa.\")\n",
    "        alunos = int(input(\"Qual o número de alunos dessa turma\"))\n",
    "    somaalunos = somaalunos + alunos\n",
    "\n",
    "mediaporturma =somaalunos/turmas\n",
    "print(' O número médio de alunos por turma é {}'. format(mediaporturma))\n"
   ]
  },
  {
   "cell_type": "markdown",
   "metadata": {},
   "source": [
    "Faça um programa que leia dez conjuntos de dois valores, o primeiro representando o número do aluno e o segundo representando a sua altura em centímetros. Encontre o aluno mais alto e o mais baixo. Mostre o número do aluno mais alto e o número do aluno mais baixo, junto com suas alturas."
   ]
  },
  {
   "cell_type": "code",
   "execution_count": null,
   "metadata": {},
   "outputs": [],
   "source": [
    "alunos = []\n",
    "alturas = []\n",
    "\n",
    "for i in range (10):\n",
    "    num = int(input('Número do aluno: '))\n",
    "    altura = float(input('Digite a altura do aluno: '))\n",
    "    alunos.append(num)    \n",
    "    alturas.append(altura)\n",
    "        \n",
    "alunobaixo= alturas.index(min(alturas))\n",
    "alunoalto= alturas.index(max(alturas))\n",
    "print ('O aluno mais baixo é o:', (alunos[alunobaixo]), 'e sua altura é: ',(min(alturas)))\n",
    "print ('O aluno mais alto é o:', (alunos[alunoalto]), 'e sua altura é: ',(max(alturas)))\n",
    "\n",
    "\n",
    "    "
   ]
  },
  {
   "cell_type": "code",
   "execution_count": null,
   "metadata": {},
   "outputs": [],
   "source": []
  },
  {
   "cell_type": "markdown",
   "metadata": {},
   "source": [
    "Faça um programa que leia uma quantidade indeterminada de números positivos e conte quantos deles estão nos seguintes intervalos: [0-25], [26-50], [51-75] e [76-100]. A entrada de dados deverá terminar quando for lido um número negativo."
   ]
  },
  {
   "cell_type": "code",
   "execution_count": null,
   "metadata": {},
   "outputs": [],
   "source": [
    "x = int(input('Digite um número: '))\n",
    "rang1 = 0\n",
    "rang2 = 0\n",
    "rang3 = 0\n",
    "rang4 = 0\n",
    "\n",
    "while x > 0:\n",
    "        x = int(input('Digite um número: '))\n",
    "        if x in range(0, 25):\n",
    "            rang1 = rang1 + 1\n",
    "        elif x in range(26, 50):\n",
    "            rang2 = rang2 + 1\n",
    "        elif x in range(51, 75):\n",
    "            rang3 = rang3 + 1\n",
    "        elif x in range(76, 100):\n",
    "            rang4 = rang4 + 1\n",
    "    \n",
    "                \n",
    "print(rang1)\n",
    "print(rang2)\n",
    "print(rang3)\n",
    "print(rang4)"
   ]
  },
  {
   "cell_type": "markdown",
   "metadata": {},
   "source": [
    "O cardápio de uma lanchonete é o seguinte:\n",
    "Especificação   Código  Preço\n",
    "Cachorro Quente 100     R$ 1,20\n",
    "Bauru Simples   101     R$ 1,30\n",
    "Bauru com ovo   102     R$ 1,50\n",
    "Hambúrguer      103     R$ 1,20\n",
    "Cheeseburguer   104     R$ 1,30\n",
    "Refrigerante    105     R$ 1,00\n",
    "Faça um programa que leia o código dos itens pedidos e as quantidades desejadas. Calcule e mostre o valor a ser pago por item (preço * quantidade) e o total geral do pedido. Considere que o cliente deve informar quando o pedido deve ser encerrado."
   ]
  },
  {
   "cell_type": "code",
   "execution_count": null,
   "metadata": {},
   "outputs": [],
   "source": [
    "codigos =[100, 101, 102, 103, 104, 105],\n",
    "lanches =['Cachorro Quente', 'Bauru Simples', 'Bauru com ovo', 'Hamburguer', 'ChesseBurguer', 'Refrigerante'],\n",
    "precos= [1.20, 1.30, 1.50, 1.20, 1.30, 1.0]\n",
    "preco_itens =[]\n",
    "cod = True\n",
    "print('Especificação   Código  Preço'\n",
    "'\\nCachorro Quente 100     R$ 1,20'\n",
    "'\\nBauru Simples   101     R$ 1,30'\n",
    "'\\nBauru com ovo   102     R$ 1,50'\n",
    "'\\nHambúrguer      103     R$ 1,20'\n",
    "'\\nCheeseburguer   104     R$ 1,30'\n",
    "'\\nRefrigerante    105     R$ 1,00')\n",
    "while cod > 0:\n",
    "    cod = int(input(\"Digite o código do lanche: \"))\n",
    "    qtd = int(input(\"Digite a quantidade: \"))\n",
    "    print('Para fechar o pedido digite -1')\n",
    "    if cod == 100: \n",
    "        preco = qtd * 1.20\n",
    "        preco_itens.append(preco)\n",
    "    elif cod == 101:\n",
    "        preco = qtd * 1.30\n",
    "        preco_itens.append(preco)\n",
    "    elif cod == 102:\n",
    "        preco = qtd * 1.50\n",
    "        preco_itens.append(preco)\n",
    "    elif cod == 103:\n",
    "        preco = qtd * 1.20\n",
    "        preco_itens.append(preco)\n",
    "    elif cod == 104:\n",
    "        preco = qtd * 1.30\n",
    "        preco_itens.append(preco)\n",
    "    elif cod == 105:\n",
    "        preco = qtd * 1.00\n",
    "        preco_itens.append(preco)\n",
    "        \n",
    "print('O preço por item do seu pedido é: {}'.format(preco_itens))       \n",
    "print('O valor total do seu pedido é: {}'.format(round(sum(preco_itens))))\n",
    "\n",
    "\n",
    "   "
   ]
  },
  {
   "cell_type": "markdown",
   "metadata": {},
   "source": [
    "Faça um programa que peça um numero inteiro positivo e em seguida mostre este numero invertido.\n",
    "Exemplo:\n",
    "\n",
    "  12376489\n",
    "  => 98467321"
   ]
  },
  {
   "cell_type": "code",
   "execution_count": null,
   "metadata": {},
   "outputs": [],
   "source": [
    "num = input('digite um número inteiro e positivo: ')\n",
    "numinvertido = num[::-1]\n",
    "print(numinvertido)"
   ]
  },
  {
   "cell_type": "markdown",
   "metadata": {},
   "source": [
    "Em uma eleição presidencial existem quatro candidatos. Os votos são informados por meio de código. Os códigos utilizados são:\n",
    "\n",
    "1 , 2, 3, 4  - Votos para os respectivos candidatos \n",
    "(você deve montar a tabela ex: 1 - Jose/ 2- João/etc)\n",
    "5 - Voto Nulo\n",
    "6 - Voto em Branco\n",
    "Faça um programa que calcule e mostre:\n",
    "O total de votos para cada candidato;\n",
    "O total de votos nulos;"
   ]
  },
  {
   "cell_type": "code",
   "execution_count": null,
   "metadata": {},
   "outputs": [],
   "source": [
    "num_candidatos = [1, 2, 3, 4, 5, 6]\n",
    "candidatos = ['Ciro Gomes', 'Bolsonaro', 'Sérgio Moro', 'Lula', 'Nulo', 'Branco']\n",
    "votos = []\n",
    "print('Escolha o número do seu candidado'\n",
    "     '\\n1- Ciro Gomes'\n",
    "     '\\n2- Bolsonaro'\n",
    "     '\\n3- Sérgio Moro'\n",
    "     '\\n4- Lula'\n",
    "     '\\n5- Nulo'\n",
    "     '\\n6- Branco')\n",
    "\n",
    "voto = True\n",
    "n_votos = 1\n",
    "n_votosc = 0\n",
    "n_votosb = 0\n",
    "n_votosm = 0\n",
    "n_votosl = 0\n",
    "n_votosn = 0\n",
    "n_votosbr = 0\n",
    "\n",
    "while voto > 0:\n",
    "    print(\"Voto n°\", n_votos)\n",
    "    voto = int(input(\"Digite o seu voto: \"))\n",
    "    print('Digite 0 para encerrar a votação: ')\n",
    "   \n",
    "    if voto == 1:\n",
    "        votos.append(voto)\n",
    "        n_votosc = n_votosc +1        \n",
    "        \n",
    "    elif voto == 2:\n",
    "        votos.append(voto)\n",
    "        n_votosb = n_votosb +1        \n",
    "        \n",
    "    elif voto == 3:\n",
    "        votos.append(voto)\n",
    "        n_votosm = n_votosm +1\n",
    "                \n",
    "    elif voto == 4:\n",
    "        votos.append(voto)\n",
    "        n_votosl = n_votosl +1\n",
    "                \n",
    "    elif voto == 5:\n",
    "        votos.append(voto)\n",
    "        n_votosn = n_votosn +1\n",
    "                \n",
    "    elif voto == 6:\n",
    "        votos.append(voto)\n",
    "        n_votosbr = n_votosbr +1\n",
    "    else:\n",
    "        print('Fim da votação')\n",
    "                \n",
    "    \n",
    "print('Ciro: ', n_votosc)\n",
    "print('Bolsonaro: ', n_votosb)\n",
    "print('Sérgio Moro: ', n_votosm)\n",
    "print('Lula: ', n_votosl)\n",
    "print('Nulos: ', n_votosn)\n",
    "print('Brancos: ', n_votosbr)\n"
   ]
  },
  {
   "cell_type": "code",
   "execution_count": null,
   "metadata": {},
   "outputs": [],
   "source": []
  }
 ],
 "metadata": {
  "kernelspec": {
   "display_name": "Python 3",
   "language": "python",
   "name": "python3"
  },
  "language_info": {
   "codemirror_mode": {
    "name": "ipython",
    "version": 3
   },
   "file_extension": ".py",
   "mimetype": "text/x-python",
   "name": "python",
   "nbconvert_exporter": "python",
   "pygments_lexer": "ipython3",
   "version": "3.8.3"
  }
 },
 "nbformat": 4,
 "nbformat_minor": 4
}
